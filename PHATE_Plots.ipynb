{
 "cells": [
  {
   "cell_type": "code",
   "execution_count": 1,
   "metadata": {},
   "outputs": [],
   "source": [
    "import anndata\n",
    "import os\n",
    "import pandas as pd\n",
    "import numpy as np\n",
    "from delve import *\n",
    "import matplotlib.pyplot as plt\n",
    "from sklearn.preprocessing import StandardScaler\n",
    "import phate"
   ]
  },
  {
   "cell_type": "code",
   "execution_count": 8,
   "metadata": {},
   "outputs": [],
   "source": [
    "def standardize(x =  None):\n",
    "    \"\"\"Standardizes data by removing the mean and scaling to unit variance.\n",
    "\n",
    "    Parameters\n",
    "    x: pd.DataFrame (default = None)\n",
    "        data matrix (dimensions = cells x features)\n",
    "    ----------\n",
    "\n",
    "    Returns\n",
    "    X: pd.DataFrame\n",
    "        standardized data matrix (dimensions = cells x features)\n",
    "    ----------\n",
    "    \"\"\"\n",
    "    scaler = StandardScaler(with_mean = True, with_std = True)\n",
    "    X = pd.DataFrame(scaler.fit_transform(x), index = x.index, columns = x.columns)\n",
    "    return X\n",
    "\n",
    "def compute_phate(df = None,\n",
    "                n_components = 2,\n",
    "                knn = 100,\n",
    "                random_state = 0,\n",
    "                n_jobs = -1):\n",
    "    \"\"\"Performs nonlinear dimensionality reduction with PHATE: https://pubmed.ncbi.nlm.nih.gov/31796933/\n",
    "    Parameters\n",
    "    df: pd.DataFrame (default = None)\n",
    "        dataframe to perform nonlinear dimensionality reduction\n",
    "    n_components: int (default = 5)\n",
    "        number of components for MDS\n",
    "    knn: int (default = 100)\n",
    "        number of nearest neighbors\n",
    "    n_jobs: int (default = -1)\n",
    "        number of tasks\n",
    "    ----------\n",
    "    Returns\n",
    "    X_phate: np.ndarray\n",
    "        PHATE embedding (dimensions = cells x n_components)\n",
    "    ----------\n",
    "    \"\"\"\n",
    "    phate_op = phate.PHATE(n_components = n_components, knn = knn, n_jobs = n_jobs, random_state = random_state) \n",
    "    X_phate = phate_op.fit_transform(df)\n",
    "    return X_phate"
   ]
  },
  {
   "cell_type": "code",
   "execution_count": 9,
   "metadata": {},
   "outputs": [],
   "source": [
    "directory = 'data'\n",
    "save_data = 'data_standard'\n",
    "save_directory = 'figures'"
   ]
  },
  {
   "cell_type": "code",
   "execution_count": 56,
   "metadata": {},
   "outputs": [],
   "source": [
    "\n",
    "# Get a list of all files in the directory\n",
    "all_files = os.listdir(directory)\n",
    "EV = all_files[0:3]\n",
    "EV200 = all_files[3:7]\n",
    "KRAS = all_files[10:13]\n",
    "KRAS200 = all_files[13:17]\n",
    "\n",
    "current_treatment = \"EV_combined.csv\"\n",
    "\n",
    "# Read and concatenate all CSV files\n",
    "combined_csv = pd.concat([pd.read_csv(os.path.join(directory, f)) for f in KRAS])\n",
    "\n",
    "# Export the combined data to a single CSV file\n",
    "combined_csv.to_csv(os.path.join(directory,current_treatment), index=False)"
   ]
  },
  {
   "cell_type": "code",
   "execution_count": 57,
   "metadata": {},
   "outputs": [],
   "source": [
    "# Run combined well data\n",
    "df = pd.read_csv(os.path.join(directory,current_treatment), index_col = 0)"
   ]
  },
  {
   "cell_type": "code",
   "execution_count": 58,
   "metadata": {},
   "outputs": [],
   "source": [
    "nuc_feats = ['area',\n",
    "             '00_DNA_nuc_median',\n",
    "             '00_pRB_nuc_median',\n",
    "             '00_Rb_nuc_median',\n",
    "             '00_p21_nuc_median',\n",
    "             '01_pp27_nuc_median',\n",
    "             '01_pH2AX_nuc_median',\n",
    "             '01_CDK2_nuc_median',\n",
    "             '02_pp53_nuc_median',\n",
    "             '02_pp21_nuc_median',\n",
    "             '02_cycA2_nuc_median',\n",
    "             '03_EdU_nuc_median']\n",
    "\n",
    "ring_feats= ['00_DNA_ring_median',\n",
    "             '00_pRB_ring_median',\n",
    "             '00_Rb_ring_median',\n",
    "             '00_p21_ring_median',\n",
    "             '01_pp27_ring_median',\n",
    "             '01_pH2AX_ring_median',\n",
    "             '01_CDK2_ring_median',\n",
    "             '02_pp53_ring_median',\n",
    "             '02_pp21_ring_median',\n",
    "             '02_cycA2_ring_median',\n",
    "             '03_EdU_ring_median']\n",
    "\n",
    "integrated_nuc_feats = ['Integrated_DNA_nuc',\n",
    "                        'Integrated_Edu_nuc',\n",
    "                        'Integrated_CDK2_nuc',\n",
    "                        'Integrated_pRB_nuc',\n",
    "                        'Integrated_Rb_nuc',\n",
    "                        'Integrated_pRB/RB',\n",
    "                        'Integrated_cycA2_nuc',\n",
    "                        'Integrated_pp53_nuc',\n",
    "                        'Integrated_pH2AX_nuc',\n",
    "                        'Integrated_pp27_nuc',\n",
    "                        'Integrated_p21_nuc',\n",
    "                        'Integrated_pp21_nuc']\n",
    "\n",
    "df['Integrated_DNA_nuc'] = df['area']*df['00_DNA_nuc_median']\n",
    "df['Integrated_pRB_nuc'] = df['area']*df['00_pRB_nuc_median']\n",
    "df['Integrated_Rb_nuc'] = df['area']*df['00_Rb_nuc_median']\n",
    "df['Integrated_p21_nuc'] = df['area']*df['00_p21_nuc_median']\n",
    "df['Integrated_pp21_nuc'] = df['area']*df['02_pp21_nuc_median']\n",
    "df['Integrated_pp27_nuc'] = df['area']*df['01_pp27_nuc_median']\n",
    "df['Integrated_pp53_nuc'] = df['area']*df['02_pp53_nuc_median']\n",
    "df['Integrated_pH2AX_nuc'] = df['area']*df['01_pH2AX_nuc_median']\n",
    "df['Integrated_CDK2_nuc'] = df['area']*df['01_CDK2_nuc_median']\n",
    "df['Integrated_cycA2_nuc'] = df['area']*df['02_cycA2_nuc_median']\n",
    "df['Integrated_Edu_nuc'] = df['area']*df['03_EdU_nuc_median']\n",
    "df['Integrated_pRB/RB'] = df['Integrated_pRB_nuc'] / df['Integrated_Rb_nuc']\n",
    "\n",
    "df['pRB/RB'] = df['00_pRB_nuc_median'] / df['00_Rb_nuc_median']"
   ]
  },
  {
   "cell_type": "code",
   "execution_count": 61,
   "metadata": {},
   "outputs": [],
   "source": [
    "\n",
    "df = df.loc[:, integrated_nuc_feats]\n",
    "df = standardize(df)\n",
    "\n",
    "# Export standardized integrated data to a single CSV file\n",
    "df.to_csv(os.path.join(save_data,f'Intg_STD_{current_treatment}'), index=False)"
   ]
  },
  {
   "cell_type": "markdown",
   "metadata": {},
   "source": [
    "**Standardized** normalized data was pruned in R then run though PHATE here\n"
   ]
  },
  {
   "cell_type": "code",
   "execution_count": 45,
   "metadata": {},
   "outputs": [],
   "source": [
    "# R-pruned data\n",
    "R_current_treatment = 'R_EV_filtered.csv'\n",
    "\n",
    "# Run R-pruned combined well data\n",
    "df = pd.read_csv(os.path.join(save_data,R_current_treatment), header=0)"
   ]
  },
  {
   "cell_type": "code",
   "execution_count": null,
   "metadata": {},
   "outputs": [],
   "source": [
    "# Run PHATE with parameters\n",
    "X_phate = compute_phate(df = df,\n",
    "                n_components = 2,\n",
    "                knn = 200,\n",
    "                random_state = 0,\n",
    "                n_jobs = -1)"
   ]
  },
  {
   "cell_type": "code",
   "execution_count": null,
   "metadata": {},
   "outputs": [],
   "source": [
    "\n",
    "fig, axes = plt.subplots(4,3, figsize = (14,12), gridspec_kw={'hspace': 0.3, 'wspace': 0.1, 'bottom':0.15})\n",
    "for i, ax in zip(range(df.shape[1]), axes.flat):\n",
    "        feat = df.columns[i]\n",
    "        sc = ax.scatter(X_phate[:, 0], X_phate[:, 1], c=df[feat], vmin=-1, vmax=2, cmap='RdYlBu_r', s=3)\n",
    "        ax.tick_params(labelsize=12)\n",
    "        ax.set_xlabel('PHATE 1', fontsize = 11)\n",
    "        ax.set_ylabel('PHATE 2', fontsize = 11)\n",
    "        ax.set_title(feat, fontsize = 11)\n",
    "        \n",
    "        ax.set_xticks([])\n",
    "        ax.set_yticks([])\n",
    "        cbar = fig.colorbar(sc, ax=ax)\n",
    "        cbar.ax.tick_params(labelsize=11)\n",
    "\n",
    "plt.savefig(os.path.join(save_directory, f'knn200_n2_{R_current_treatment}_integrated.png'), bbox_inches = 'tight')\n",
    "plt.show()"
   ]
  },
  {
   "cell_type": "code",
   "execution_count": 49,
   "metadata": {},
   "outputs": [],
   "source": [
    "for i in range(df.shape[1]):\n",
    "    feat = df.columns[i]\n",
    "    fig, ax = plt.subplots(figsize=(5, 3.75))\n",
    "    sc = ax.scatter(X_phate[:, 0], X_phate[:, 1], c=df[feat], vmin=-1, vmax=2, cmap='RdYlBu_r', s=3)\n",
    "    ax.tick_params(labelsize=12)\n",
    "    ax.set_xlabel('PHATE 1', fontsize=11)\n",
    "    ax.set_ylabel('PHATE 2', fontsize=11)\n",
    "    ax.set_title(feat, fontsize=11)\n",
    "    \n",
    "    ax.set_xticks([])\n",
    "    ax.set_yticks([])\n",
    "    cbar = fig.colorbar(sc, ax=ax)\n",
    "    cbar.ax.tick_params(labelsize=11)\n",
    "    \n",
    "    # Save each plot as a separate PDF file\n",
    "    plt.savefig(os.path.join(save_directory, f'knn200_n2_{R_current_treatment}_{feat}_integrated.png'), bbox_inches='tight')\n",
    "    plt.close(fig)"
   ]
  }
 ],
 "metadata": {
  "interpreter": {
   "hash": "8e61c9422603e3d3820d3aeca1b8eefe471d1a1023a28a3903412dc32402bf43"
  },
  "kernelspec": {
   "display_name": "Python 3.7.2 32-bit",
   "name": "python3"
  },
  "language_info": {
   "codemirror_mode": {
    "name": "ipython",
    "version": 3
   },
   "file_extension": ".py",
   "mimetype": "text/x-python",
   "name": "python",
   "nbconvert_exporter": "python",
   "pygments_lexer": "ipython3",
   "version": "3.11.8"
  }
 },
 "nbformat": 4,
 "nbformat_minor": 2
}
